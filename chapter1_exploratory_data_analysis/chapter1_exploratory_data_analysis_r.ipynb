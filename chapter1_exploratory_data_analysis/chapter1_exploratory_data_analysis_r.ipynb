{
 "cells": [
  {
   "cell_type": "code",
   "execution_count": 105,
   "id": "8aca605f-05d1-4507-8129-baf0c591a425",
   "metadata": {},
   "outputs": [],
   "source": [
    "library(ggplot2)\n",
    "library(matrixStats)\n",
    "library(psych)\n",
    "library(dplyr)\n",
    "\n",
    "options(repr.plot.width = 10, repr.plot.height = 8)"
   ]
  },
  {
   "cell_type": "markdown",
   "id": "bfb3d647-3c79-4810-9ac7-6e9a0133d38a",
   "metadata": {},
   "source": [
    "# Estimates of Location"
   ]
  },
  {
   "cell_type": "code",
   "execution_count": 106,
   "id": "3e69118c-2d98-4ac6-b49e-a8e3cd525ef4",
   "metadata": {},
   "outputs": [
    {
     "data": {
      "text/html": [
       "<table class=\"dataframe\">\n",
       "<caption>A data.frame: 6 × 4</caption>\n",
       "<thead>\n",
       "\t<tr><th></th><th scope=col>State</th><th scope=col>Population</th><th scope=col>Murder.Rate</th><th scope=col>Abbreviation</th></tr>\n",
       "\t<tr><th></th><th scope=col>&lt;chr&gt;</th><th scope=col>&lt;int&gt;</th><th scope=col>&lt;dbl&gt;</th><th scope=col>&lt;chr&gt;</th></tr>\n",
       "</thead>\n",
       "<tbody>\n",
       "\t<tr><th scope=row>1</th><td>Alabama   </td><td> 4779736</td><td>5.7</td><td>AL</td></tr>\n",
       "\t<tr><th scope=row>2</th><td>Alaska    </td><td>  710231</td><td>5.6</td><td>AK</td></tr>\n",
       "\t<tr><th scope=row>3</th><td>Arizona   </td><td> 6392017</td><td>4.7</td><td>AZ</td></tr>\n",
       "\t<tr><th scope=row>4</th><td>Arkansas  </td><td> 2915918</td><td>5.6</td><td>AR</td></tr>\n",
       "\t<tr><th scope=row>5</th><td>California</td><td>37253956</td><td>4.4</td><td>CA</td></tr>\n",
       "\t<tr><th scope=row>6</th><td>Colorado  </td><td> 5029196</td><td>2.8</td><td>CO</td></tr>\n",
       "</tbody>\n",
       "</table>\n"
      ],
      "text/latex": [
       "A data.frame: 6 × 4\n",
       "\\begin{tabular}{r|llll}\n",
       "  & State & Population & Murder.Rate & Abbreviation\\\\\n",
       "  & <chr> & <int> & <dbl> & <chr>\\\\\n",
       "\\hline\n",
       "\t1 & Alabama    &  4779736 & 5.7 & AL\\\\\n",
       "\t2 & Alaska     &   710231 & 5.6 & AK\\\\\n",
       "\t3 & Arizona    &  6392017 & 4.7 & AZ\\\\\n",
       "\t4 & Arkansas   &  2915918 & 5.6 & AR\\\\\n",
       "\t5 & California & 37253956 & 4.4 & CA\\\\\n",
       "\t6 & Colorado   &  5029196 & 2.8 & CO\\\\\n",
       "\\end{tabular}\n"
      ],
      "text/markdown": [
       "\n",
       "A data.frame: 6 × 4\n",
       "\n",
       "| <!--/--> | State &lt;chr&gt; | Population &lt;int&gt; | Murder.Rate &lt;dbl&gt; | Abbreviation &lt;chr&gt; |\n",
       "|---|---|---|---|---|\n",
       "| 1 | Alabama    |  4779736 | 5.7 | AL |\n",
       "| 2 | Alaska     |   710231 | 5.6 | AK |\n",
       "| 3 | Arizona    |  6392017 | 4.7 | AZ |\n",
       "| 4 | Arkansas   |  2915918 | 5.6 | AR |\n",
       "| 5 | California | 37253956 | 4.4 | CA |\n",
       "| 6 | Colorado   |  5029196 | 2.8 | CO |\n",
       "\n"
      ],
      "text/plain": [
       "  State      Population Murder.Rate Abbreviation\n",
       "1 Alabama     4779736   5.7         AL          \n",
       "2 Alaska       710231   5.6         AK          \n",
       "3 Arizona     6392017   4.7         AZ          \n",
       "4 Arkansas    2915918   5.6         AR          \n",
       "5 California 37253956   4.4         CA          \n",
       "6 Colorado    5029196   2.8         CO          "
      ]
     },
     "metadata": {},
     "output_type": "display_data"
    }
   ],
   "source": [
    "state <- read.csv('data/state.csv')\n",
    "head(state)"
   ]
  },
  {
   "cell_type": "code",
   "execution_count": 108,
   "id": "f90b498c-1ff1-4b01-b57d-482d13c75864",
   "metadata": {},
   "outputs": [
    {
     "data": {
      "text/html": [
       "6162876.3"
      ],
      "text/latex": [
       "6162876.3"
      ],
      "text/markdown": [
       "6162876.3"
      ],
      "text/plain": [
       "[1] 6162876"
      ]
     },
     "metadata": {},
     "output_type": "display_data"
    }
   ],
   "source": [
    "mean(state$Population)"
   ]
  },
  {
   "cell_type": "code",
   "execution_count": 109,
   "id": "110e9ec6-7f26-4244-9f7f-50a27f4a65b1",
   "metadata": {},
   "outputs": [
    {
     "data": {
      "text/html": [
       "4783697.125"
      ],
      "text/latex": [
       "4783697.125"
      ],
      "text/markdown": [
       "4783697.125"
      ],
      "text/plain": [
       "[1] 4783697"
      ]
     },
     "metadata": {},
     "output_type": "display_data"
    }
   ],
   "source": [
    "mean(state$Population, trim = 0.1)"
   ]
  },
  {
   "cell_type": "code",
   "execution_count": 110,
   "id": "4c19b336-4bc2-40b9-9acd-d26ed61b6c6d",
   "metadata": {},
   "outputs": [
    {
     "data": {
      "text/html": [
       "4436369.5"
      ],
      "text/latex": [
       "4436369.5"
      ],
      "text/markdown": [
       "4436369.5"
      ],
      "text/plain": [
       "[1] 4436370"
      ]
     },
     "metadata": {},
     "output_type": "display_data"
    }
   ],
   "source": [
    "median(state$Population)"
   ]
  },
  {
   "cell_type": "code",
   "execution_count": 112,
   "id": "84095456-f155-436c-b070-ae78c11d1b8a",
   "metadata": {},
   "outputs": [
    {
     "data": {
      "text/html": [
       "4.44583398112339"
      ],
      "text/latex": [
       "4.44583398112339"
      ],
      "text/markdown": [
       "4.44583398112339"
      ],
      "text/plain": [
       "[1] 4.445834"
      ]
     },
     "metadata": {},
     "output_type": "display_data"
    }
   ],
   "source": [
    "weighted.mean(state$Murder.Rate, w = state$Population)"
   ]
  },
  {
   "cell_type": "code",
   "execution_count": 121,
   "id": "8f2a7df0-ff3b-42cb-9e9b-9f746d2c5bcc",
   "metadata": {},
   "outputs": [
    {
     "data": {
      "text/html": [
       "4.4"
      ],
      "text/latex": [
       "4.4"
      ],
      "text/markdown": [
       "4.4"
      ],
      "text/plain": [
       "[1] 4.4"
      ]
     },
     "metadata": {},
     "output_type": "display_data"
    }
   ],
   "source": [
    "weightedMedian(state$Murder.Rate, w = state$Population)"
   ]
  },
  {
   "cell_type": "markdown",
   "id": "d3ae4ab0-4d7e-4130-86e7-8fcd703c5dd0",
   "metadata": {},
   "source": [
    "# Estimates of Variability"
   ]
  },
  {
   "cell_type": "code",
   "execution_count": 122,
   "id": "9bd4b683-2695-47c0-8e20-3ffd92d9bb9c",
   "metadata": {},
   "outputs": [
    {
     "data": {
      "text/plain": [
       "    State             Population        Murder.Rate     Abbreviation      \n",
       " Length:50          Min.   :  563626   Min.   : 0.900   Length:50         \n",
       " Class :character   1st Qu.: 1833004   1st Qu.: 2.425   Class :character  \n",
       " Mode  :character   Median : 4436370   Median : 4.000   Mode  :character  \n",
       "                    Mean   : 6162876   Mean   : 4.066                     \n",
       "                    3rd Qu.: 6680312   3rd Qu.: 5.550                     \n",
       "                    Max.   :37253956   Max.   :10.300                     "
      ]
     },
     "metadata": {},
     "output_type": "display_data"
    }
   ],
   "source": [
    "summary(state)"
   ]
  },
  {
   "cell_type": "code",
   "execution_count": 123,
   "id": "60c99ef5-3bb7-475f-b1e0-35a481404597",
   "metadata": {},
   "outputs": [
    {
     "data": {
      "text/html": [
       "<table class=\"dataframe\">\n",
       "<caption>A psych: 2 × 13</caption>\n",
       "<thead>\n",
       "\t<tr><th></th><th scope=col>vars</th><th scope=col>n</th><th scope=col>mean</th><th scope=col>sd</th><th scope=col>median</th><th scope=col>trimmed</th><th scope=col>mad</th><th scope=col>min</th><th scope=col>max</th><th scope=col>range</th><th scope=col>skew</th><th scope=col>kurtosis</th><th scope=col>se</th></tr>\n",
       "\t<tr><th></th><th scope=col>&lt;int&gt;</th><th scope=col>&lt;dbl&gt;</th><th scope=col>&lt;dbl&gt;</th><th scope=col>&lt;dbl&gt;</th><th scope=col>&lt;dbl&gt;</th><th scope=col>&lt;dbl&gt;</th><th scope=col>&lt;dbl&gt;</th><th scope=col>&lt;dbl&gt;</th><th scope=col>&lt;dbl&gt;</th><th scope=col>&lt;dbl&gt;</th><th scope=col>&lt;dbl&gt;</th><th scope=col>&lt;dbl&gt;</th><th scope=col>&lt;dbl&gt;</th></tr>\n",
       "</thead>\n",
       "<tbody>\n",
       "\t<tr><th scope=row>Population</th><td>1</td><td>50</td><td>6162876.300</td><td>6.848235e+06</td><td>4436370</td><td>4783697.125</td><td>3.84987e+06</td><td>563626.0</td><td>37253956.0</td><td>36690330.0</td><td>2.4861907</td><td>7.3303878</td><td>9.684867e+05</td></tr>\n",
       "\t<tr><th scope=row>Murder.Rate</th><td>2</td><td>50</td><td>      4.066</td><td>1.915736e+00</td><td>      4</td><td>      3.945</td><td>2.37216e+00</td><td>     0.9</td><td>      10.3</td><td>       9.4</td><td>0.7343986</td><td>0.6555232</td><td>2.709260e-01</td></tr>\n",
       "</tbody>\n",
       "</table>\n"
      ],
      "text/latex": [
       "A psych: 2 × 13\n",
       "\\begin{tabular}{r|lllllllllllll}\n",
       "  & vars & n & mean & sd & median & trimmed & mad & min & max & range & skew & kurtosis & se\\\\\n",
       "  & <int> & <dbl> & <dbl> & <dbl> & <dbl> & <dbl> & <dbl> & <dbl> & <dbl> & <dbl> & <dbl> & <dbl> & <dbl>\\\\\n",
       "\\hline\n",
       "\tPopulation & 1 & 50 & 6162876.300 & 6.848235e+06 & 4436370 & 4783697.125 & 3.84987e+06 & 563626.0 & 37253956.0 & 36690330.0 & 2.4861907 & 7.3303878 & 9.684867e+05\\\\\n",
       "\tMurder.Rate & 2 & 50 &       4.066 & 1.915736e+00 &       4 &       3.945 & 2.37216e+00 &      0.9 &       10.3 &        9.4 & 0.7343986 & 0.6555232 & 2.709260e-01\\\\\n",
       "\\end{tabular}\n"
      ],
      "text/markdown": [
       "\n",
       "A psych: 2 × 13\n",
       "\n",
       "| <!--/--> | vars &lt;int&gt; | n &lt;dbl&gt; | mean &lt;dbl&gt; | sd &lt;dbl&gt; | median &lt;dbl&gt; | trimmed &lt;dbl&gt; | mad &lt;dbl&gt; | min &lt;dbl&gt; | max &lt;dbl&gt; | range &lt;dbl&gt; | skew &lt;dbl&gt; | kurtosis &lt;dbl&gt; | se &lt;dbl&gt; |\n",
       "|---|---|---|---|---|---|---|---|---|---|---|---|---|---|\n",
       "| Population | 1 | 50 | 6162876.300 | 6.848235e+06 | 4436370 | 4783697.125 | 3.84987e+06 | 563626.0 | 37253956.0 | 36690330.0 | 2.4861907 | 7.3303878 | 9.684867e+05 |\n",
       "| Murder.Rate | 2 | 50 |       4.066 | 1.915736e+00 |       4 |       3.945 | 2.37216e+00 |      0.9 |       10.3 |        9.4 | 0.7343986 | 0.6555232 | 2.709260e-01 |\n",
       "\n"
      ],
      "text/plain": [
       "            vars n  mean        sd           median  trimmed     mad        \n",
       "Population  1    50 6162876.300 6.848235e+06 4436370 4783697.125 3.84987e+06\n",
       "Murder.Rate 2    50       4.066 1.915736e+00       4       3.945 2.37216e+00\n",
       "            min      max        range      skew      kurtosis  se          \n",
       "Population  563626.0 37253956.0 36690330.0 2.4861907 7.3303878 9.684867e+05\n",
       "Murder.Rate      0.9       10.3        9.4 0.7343986 0.6555232 2.709260e-01"
      ]
     },
     "metadata": {},
     "output_type": "display_data"
    }
   ],
   "source": [
    "describe(state %>% select(Population, Murder.Rate))"
   ]
  },
  {
   "cell_type": "code",
   "execution_count": 124,
   "id": "5ba407e3-6160-4ea1-9640-7d31cb37d33a",
   "metadata": {},
   "outputs": [
    {
     "data": {
      "text/html": [
       "6848235.34740114"
      ],
      "text/latex": [
       "6848235.34740114"
      ],
      "text/markdown": [
       "6848235.34740114"
      ],
      "text/plain": [
       "[1] 6848235"
      ]
     },
     "metadata": {},
     "output_type": "display_data"
    }
   ],
   "source": [
    "sd(state$Population)"
   ]
  },
  {
   "cell_type": "code",
   "execution_count": 125,
   "id": "53d6acae-45d3-4089-aef9-dd925b265d9e",
   "metadata": {},
   "outputs": [
    {
     "data": {
      "text/html": [
       "4847308"
      ],
      "text/latex": [
       "4847308"
      ],
      "text/markdown": [
       "4847308"
      ],
      "text/plain": [
       "[1] 4847308"
      ]
     },
     "metadata": {},
     "output_type": "display_data"
    }
   ],
   "source": [
    "IQR(state$Population)"
   ]
  },
  {
   "cell_type": "code",
   "execution_count": 127,
   "id": "066d5744-9076-4f65-af40-856991e209fa",
   "metadata": {},
   "outputs": [
    {
     "data": {
      "text/html": [
       "3849870.3852"
      ],
      "text/latex": [
       "3849870.3852"
      ],
      "text/markdown": [
       "3849870.3852"
      ],
      "text/plain": [
       "[1] 3849870"
      ]
     },
     "metadata": {},
     "output_type": "display_data"
    }
   ],
   "source": [
    "mad(state$Population)"
   ]
  },
  {
   "cell_type": "markdown",
   "id": "8988581a-ef4e-4baa-b0f6-b90d4969c137",
   "metadata": {},
   "source": [
    "# Exploring the Data Distribution"
   ]
  },
  {
   "cell_type": "code",
   "execution_count": 141,
   "id": "0c896345-c690-4733-82d6-d1fe7f8489ee",
   "metadata": {},
   "outputs": [
    {
     "name": "stdout",
     "output_type": "stream",
     "text": [
      "      5%      25%      50%      75%      95% \n",
      "  689529  1833004  4436370  6680312 19118546 \n"
     ]
    }
   ],
   "source": [
    "print(quantile(state$Population, p = c(0.05, 0.25, 0.5, 0.75, 0.95)))"
   ]
  },
  {
   "cell_type": "code",
   "execution_count": 164,
   "id": "af886743-7ce9-4663-b370-c15f77311081",
   "metadata": {},
   "outputs": [
    {
     "data": {
      "image/png": "[encoded data removed]",
      "text/plain": [
       "plot without title"
      ]
     },
     "metadata": {
      "image/png": {
       "height": 480,
       "width": 600
      }
     },
     "output_type": "display_data"
    }
   ],
   "source": [
    "boxplot(state$Population / 1000000, ylab = 'Population (millions)', cex.lab = 1.5, cex.axis = 1.5, col = 'purple', alpha = 0.2)"
   ]
  },
  {
   "cell_type": "code",
   "execution_count": 166,
   "id": "710e866e-b80e-4ef1-bfb0-b96c6ec16531",
   "metadata": {},
   "outputs": [
    {
     "data": {
      "image/png": "[encoded data removed]",
      "text/plain": [
       "plot without title"
      ]
     },
     "metadata": {
      "image/png": {
       "height": 480,
       "width": 600
      }
     },
     "output_type": "display_data"
    }
   ],
   "source": [
    "ggplot(state) +\n",
    "    geom_boxplot(aes(y = Population / 1000000), fill = 'purple') +\n",
    "    ylab('Population (millions)') +\n",
    "    theme(text = element_text(size = 20)) +\n",
    "    coord_cartesian(xlim = c(-0.8, 0.8))"
   ]
  }
 ],
 "metadata": {
  "kernelspec": {
   "display_name": "R [conda env:ml_data_science_r]",
   "language": "R",
   "name": "conda-env-ml_data_science_r-r"
  },
  "language_info": {
   "codemirror_mode": "r",
   "file_extension": ".r",
   "mimetype": "text/x-r-source",
   "name": "R",
   "pygments_lexer": "r",
   "version": "4.2.3"
  }
 },
 "nbformat": 4,
 "nbformat_minor": 5
}
